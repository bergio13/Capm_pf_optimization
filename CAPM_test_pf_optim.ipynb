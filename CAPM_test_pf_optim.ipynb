{
  "nbformat": 4,
  "nbformat_minor": 0,
  "metadata": {
    "colab": {
      "provenance": [],
      "authorship_tag": "ABX9TyNLqTZcJ1D/7CXGQVsCGQgy"
    },
    "kernelspec": {
      "name": "python3",
      "display_name": "Python 3"
    },
    "language_info": {
      "name": "python"
    }
  },
  "cells": [
    {
      "cell_type": "code",
      "execution_count": 1,
      "metadata": {
        "id": "CXpC5b5J3Hbt"
      },
      "outputs": [],
      "source": [
        "import pandas as pd\n",
        "import numpy as np\n",
        "import yfinance as yf\n",
        "import matplotlib.pyplot as plt\n",
        "import statsmodels.api as sm\n",
        "from scipy import optimize\n",
        "from scipy.optimize import Bounds\n",
        "from multiprocessing import Pool"
      ]
    },
    {
      "cell_type": "code",
      "source": [
        "# set start and end dates\n",
        "start, end = '2017-1-1', '2022-1-1'\n",
        "\n",
        "# download index data\n",
        "ticker = '^STOXX'\n",
        "index = yf.download(ticker, start, end, progress=False)\n",
        "index_close = index['Adj Close']\n",
        "\n",
        "# calculate average market return and standard deviation\n",
        "average_market_ret = index_close.pct_change().mean() * 21\n",
        "av_m = index_close.pct_change().mean() * 253\n",
        "av_std = index_close.pct_change().std() * (253**0.5)\n",
        "\n",
        "# resample index data to weekly frequency\n",
        "weekly_index = index_close.resample('1W').last().dropna()\n",
        "average_weekly_index = weekly_index.pct_change().mean()\n",
        "\n",
        "# read risk-free rate data\n",
        "rf = pd.read_csv('wbond.csv')\n",
        "rf_close = rf.Ultimo / 100\n",
        "\n",
        "# define list of stocks and indexes\n",
        "stocks = ['STLAM.MI', 'ENEL.MI', 'ENI.MI', 'ISP.MI', 'RACE.MI', 'STM.MI', 'G.MI', 'UCG.MI', 'CNHI.MI'] \n",
        "indexes = ['^STOXX', 'FTSEMIB.MI']\n",
        "\n",
        "\n",
        "def beta_calculator(stock):\n",
        "    # download data\n",
        "    stock = yf.download(stock, start, end, progress = False)\n",
        "\n",
        "    # calculate log returns and covariance\n",
        "    index_log_return = np.log(index['Adj Close'] / index['Adj Close'].shift(1))\n",
        "    stock_log_ret = np.log(stock['Adj Close'] / stock['Adj Close'].shift(1))\n",
        "    df = pd.DataFrame({'Index': index_log_return, 'Stock': stock_log_ret}).fillna(method='bfill')\n",
        "    cov_index_stock = df.cov().iloc[0,1]\n",
        "    \n",
        "    # calculate beta\n",
        "    market_var = index_log_return.var()\n",
        "    beta = cov_index_stock / market_var\n",
        "    return beta\n",
        "\n",
        "def regression(stock):\n",
        "    # download data\n",
        "    stock = yf.download(stock, start, end, progress=False)\n",
        "    \n",
        "    # calculate returns and run regression\n",
        "    index_ret = index['Adj Close'].pct_change()\n",
        "    stock_ret = stock['Adj Close'].pct_change()\n",
        "    df = pd.DataFrame({'Index': index_ret, 'Stock': stock_ret}).dropna()\n",
        "    y = df['Stock']\n",
        "    X = sm.add_constant(df['Index'])\n",
        "    OLS_regr = sm.OLS(y, X).fit()\n",
        "    return OLS_regr.params[1]\n",
        "\n",
        "\n",
        "with Pool() as pool:\n",
        "    betas = pool.map(beta_calculator, stocks)\n",
        "    regression_betas = pool.map(regression, stocks)\n",
        "\n",
        "# create dataframe of betas\n",
        "dftot = pd.DataFrame({'regression_betas': regression_betas}, index=stocks)\n",
        "dftot['formula_betas'] = betas\n",
        "dftot\n",
        "print('Dispersion betas', dftot['regression_betas'].std())"
      ],
      "metadata": {
        "colab": {
          "base_uri": "https://localhost:8080/"
        },
        "id": "xYvWenK63gIU",
        "outputId": "2a894d05-c14c-4029-ca7b-2207a6871364"
      },
      "execution_count": 2,
      "outputs": [
        {
          "output_type": "stream",
          "name": "stdout",
          "text": [
            "Dispersion betas 0.27082068051497454\n"
          ]
        }
      ]
    },
    {
      "cell_type": "code",
      "source": [
        "# calculate market weights\n",
        "market_weights = [43.17, 51.07, 44.34, 36.69, 38.05, 31.59, 25.52, 24.67, 20.14, 18.82]\n",
        "total_weight = np.sum(market_weights)\n",
        "weights = np.array(market_weights) / total_weight\n",
        "\n",
        "# calculate the risk-free rate based on the mean closing value\n",
        "rf = rf_close.mean() * 4\n",
        "\n",
        "exp_ret_beta = [rf + i*(average_market_ret - rf) for i in regression_betas]\n",
        "\n",
        "mean_ret_beta, monthly_ret, mean_ri_rf = [], [], []\n",
        "\n",
        "for i in range(len(stocks)):\n",
        "    stock_close = yf.download(stocks[i], start, end, progress=False)['Adj Close'].resample('1W').last()\n",
        "    li = [stock_close.pct_change()[j] - rf_close[j] for j in range(len(stock_close))]\n",
        "    mean_ri_rf.append(np.nanmean(li) * 4)\n",
        "    mean_ret_beta.append((regression_betas[i], stock_close.pct_change().mean() * 4))\n",
        "    monthly_ret.append(stock_close.pct_change().mean() * 4)\n",
        "\n",
        "# create dataframe and calculate alphas\n",
        "dftot['mean ri-rf'] = mean_ri_rf\n",
        "dftot['m_expected_returns'] = exp_ret_beta\n",
        "dftot['m_mean_returns'] = monthly_ret\n",
        "\n",
        "dftot['alphas'] = dftot['m_mean_returns'] - dftot['m_expected_returns']\n",
        "dftot"
      ],
      "metadata": {
        "colab": {
          "base_uri": "https://localhost:8080/",
          "height": 331
        },
        "id": "Auf8vEy9ErqT",
        "outputId": "2cd0cf0c-9546-4c16-c3a3-068593e28087"
      },
      "execution_count": 3,
      "outputs": [
        {
          "output_type": "execute_result",
          "data": {
            "text/plain": [
              "          regression_betas  formula_betas  mean ri-rf  m_expected_returns  \\\n",
              "STLAM.MI          1.552083       1.555609    0.035882            0.017736   \n",
              "ENEL.MI           0.949989       0.962650    0.029881            0.004888   \n",
              "ENI.MI            1.307908       1.316362    0.019680            0.012526   \n",
              "ISP.MI            1.295006       1.287798    0.024657            0.012250   \n",
              "RACE.MI           0.987215       0.974808    0.040386            0.005683   \n",
              "STM.MI            1.609397       1.595468    0.045337            0.018959   \n",
              "G.MI              0.945664       0.944447    0.026694            0.004796   \n",
              "UCG.MI            1.458870       1.455224    0.023240            0.015747   \n",
              "CNHI.MI           1.537913       1.542607    0.030187            0.017433   \n",
              "\n",
              "          m_mean_returns    alphas  \n",
              "STLAM.MI        0.020550  0.002814  \n",
              "ENEL.MI         0.014549  0.009661  \n",
              "ENI.MI          0.004347 -0.008178  \n",
              "ISP.MI          0.009325 -0.002925  \n",
              "RACE.MI         0.025053  0.019371  \n",
              "STM.MI          0.030005  0.011046  \n",
              "G.MI            0.011361  0.006565  \n",
              "UCG.MI          0.007908 -0.007839  \n",
              "CNHI.MI         0.014854 -0.002579  "
            ],
            "text/html": [
              "\n",
              "  <div id=\"df-6741e492-b602-49f4-bea1-116963c8c913\">\n",
              "    <div class=\"colab-df-container\">\n",
              "      <div>\n",
              "<style scoped>\n",
              "    .dataframe tbody tr th:only-of-type {\n",
              "        vertical-align: middle;\n",
              "    }\n",
              "\n",
              "    .dataframe tbody tr th {\n",
              "        vertical-align: top;\n",
              "    }\n",
              "\n",
              "    .dataframe thead th {\n",
              "        text-align: right;\n",
              "    }\n",
              "</style>\n",
              "<table border=\"1\" class=\"dataframe\">\n",
              "  <thead>\n",
              "    <tr style=\"text-align: right;\">\n",
              "      <th></th>\n",
              "      <th>regression_betas</th>\n",
              "      <th>formula_betas</th>\n",
              "      <th>mean ri-rf</th>\n",
              "      <th>m_expected_returns</th>\n",
              "      <th>m_mean_returns</th>\n",
              "      <th>alphas</th>\n",
              "    </tr>\n",
              "  </thead>\n",
              "  <tbody>\n",
              "    <tr>\n",
              "      <th>STLAM.MI</th>\n",
              "      <td>1.552083</td>\n",
              "      <td>1.555609</td>\n",
              "      <td>0.035882</td>\n",
              "      <td>0.017736</td>\n",
              "      <td>0.020550</td>\n",
              "      <td>0.002814</td>\n",
              "    </tr>\n",
              "    <tr>\n",
              "      <th>ENEL.MI</th>\n",
              "      <td>0.949989</td>\n",
              "      <td>0.962650</td>\n",
              "      <td>0.029881</td>\n",
              "      <td>0.004888</td>\n",
              "      <td>0.014549</td>\n",
              "      <td>0.009661</td>\n",
              "    </tr>\n",
              "    <tr>\n",
              "      <th>ENI.MI</th>\n",
              "      <td>1.307908</td>\n",
              "      <td>1.316362</td>\n",
              "      <td>0.019680</td>\n",
              "      <td>0.012526</td>\n",
              "      <td>0.004347</td>\n",
              "      <td>-0.008178</td>\n",
              "    </tr>\n",
              "    <tr>\n",
              "      <th>ISP.MI</th>\n",
              "      <td>1.295006</td>\n",
              "      <td>1.287798</td>\n",
              "      <td>0.024657</td>\n",
              "      <td>0.012250</td>\n",
              "      <td>0.009325</td>\n",
              "      <td>-0.002925</td>\n",
              "    </tr>\n",
              "    <tr>\n",
              "      <th>RACE.MI</th>\n",
              "      <td>0.987215</td>\n",
              "      <td>0.974808</td>\n",
              "      <td>0.040386</td>\n",
              "      <td>0.005683</td>\n",
              "      <td>0.025053</td>\n",
              "      <td>0.019371</td>\n",
              "    </tr>\n",
              "    <tr>\n",
              "      <th>STM.MI</th>\n",
              "      <td>1.609397</td>\n",
              "      <td>1.595468</td>\n",
              "      <td>0.045337</td>\n",
              "      <td>0.018959</td>\n",
              "      <td>0.030005</td>\n",
              "      <td>0.011046</td>\n",
              "    </tr>\n",
              "    <tr>\n",
              "      <th>G.MI</th>\n",
              "      <td>0.945664</td>\n",
              "      <td>0.944447</td>\n",
              "      <td>0.026694</td>\n",
              "      <td>0.004796</td>\n",
              "      <td>0.011361</td>\n",
              "      <td>0.006565</td>\n",
              "    </tr>\n",
              "    <tr>\n",
              "      <th>UCG.MI</th>\n",
              "      <td>1.458870</td>\n",
              "      <td>1.455224</td>\n",
              "      <td>0.023240</td>\n",
              "      <td>0.015747</td>\n",
              "      <td>0.007908</td>\n",
              "      <td>-0.007839</td>\n",
              "    </tr>\n",
              "    <tr>\n",
              "      <th>CNHI.MI</th>\n",
              "      <td>1.537913</td>\n",
              "      <td>1.542607</td>\n",
              "      <td>0.030187</td>\n",
              "      <td>0.017433</td>\n",
              "      <td>0.014854</td>\n",
              "      <td>-0.002579</td>\n",
              "    </tr>\n",
              "  </tbody>\n",
              "</table>\n",
              "</div>\n",
              "      <button class=\"colab-df-convert\" onclick=\"convertToInteractive('df-6741e492-b602-49f4-bea1-116963c8c913')\"\n",
              "              title=\"Convert this dataframe to an interactive table.\"\n",
              "              style=\"display:none;\">\n",
              "        \n",
              "  <svg xmlns=\"http://www.w3.org/2000/svg\" height=\"24px\"viewBox=\"0 0 24 24\"\n",
              "       width=\"24px\">\n",
              "    <path d=\"M0 0h24v24H0V0z\" fill=\"none\"/>\n",
              "    <path d=\"M18.56 5.44l.94 2.06.94-2.06 2.06-.94-2.06-.94-.94-2.06-.94 2.06-2.06.94zm-11 1L8.5 8.5l.94-2.06 2.06-.94-2.06-.94L8.5 2.5l-.94 2.06-2.06.94zm10 10l.94 2.06.94-2.06 2.06-.94-2.06-.94-.94-2.06-.94 2.06-2.06.94z\"/><path d=\"M17.41 7.96l-1.37-1.37c-.4-.4-.92-.59-1.43-.59-.52 0-1.04.2-1.43.59L10.3 9.45l-7.72 7.72c-.78.78-.78 2.05 0 2.83L4 21.41c.39.39.9.59 1.41.59.51 0 1.02-.2 1.41-.59l7.78-7.78 2.81-2.81c.8-.78.8-2.07 0-2.86zM5.41 20L4 18.59l7.72-7.72 1.47 1.35L5.41 20z\"/>\n",
              "  </svg>\n",
              "      </button>\n",
              "      \n",
              "  <style>\n",
              "    .colab-df-container {\n",
              "      display:flex;\n",
              "      flex-wrap:wrap;\n",
              "      gap: 12px;\n",
              "    }\n",
              "\n",
              "    .colab-df-convert {\n",
              "      background-color: #E8F0FE;\n",
              "      border: none;\n",
              "      border-radius: 50%;\n",
              "      cursor: pointer;\n",
              "      display: none;\n",
              "      fill: #1967D2;\n",
              "      height: 32px;\n",
              "      padding: 0 0 0 0;\n",
              "      width: 32px;\n",
              "    }\n",
              "\n",
              "    .colab-df-convert:hover {\n",
              "      background-color: #E2EBFA;\n",
              "      box-shadow: 0px 1px 2px rgba(60, 64, 67, 0.3), 0px 1px 3px 1px rgba(60, 64, 67, 0.15);\n",
              "      fill: #174EA6;\n",
              "    }\n",
              "\n",
              "    [theme=dark] .colab-df-convert {\n",
              "      background-color: #3B4455;\n",
              "      fill: #D2E3FC;\n",
              "    }\n",
              "\n",
              "    [theme=dark] .colab-df-convert:hover {\n",
              "      background-color: #434B5C;\n",
              "      box-shadow: 0px 1px 3px 1px rgba(0, 0, 0, 0.15);\n",
              "      filter: drop-shadow(0px 1px 2px rgba(0, 0, 0, 0.3));\n",
              "      fill: #FFFFFF;\n",
              "    }\n",
              "  </style>\n",
              "\n",
              "      <script>\n",
              "        const buttonEl =\n",
              "          document.querySelector('#df-6741e492-b602-49f4-bea1-116963c8c913 button.colab-df-convert');\n",
              "        buttonEl.style.display =\n",
              "          google.colab.kernel.accessAllowed ? 'block' : 'none';\n",
              "\n",
              "        async function convertToInteractive(key) {\n",
              "          const element = document.querySelector('#df-6741e492-b602-49f4-bea1-116963c8c913');\n",
              "          const dataTable =\n",
              "            await google.colab.kernel.invokeFunction('convertToInteractive',\n",
              "                                                     [key], {});\n",
              "          if (!dataTable) return;\n",
              "\n",
              "          const docLinkHtml = 'Like what you see? Visit the ' +\n",
              "            '<a target=\"_blank\" href=https://colab.research.google.com/notebooks/data_table.ipynb>data table notebook</a>'\n",
              "            + ' to learn more about interactive tables.';\n",
              "          element.innerHTML = '';\n",
              "          dataTable['output_type'] = 'display_data';\n",
              "          await google.colab.output.renderOutput(dataTable, element);\n",
              "          const docLink = document.createElement('div');\n",
              "          docLink.innerHTML = docLinkHtml;\n",
              "          element.appendChild(docLink);\n",
              "        }\n",
              "      </script>\n",
              "    </div>\n",
              "  </div>\n",
              "  "
            ]
          },
          "metadata": {},
          "execution_count": 3
        }
      ]
    },
    {
      "cell_type": "markdown",
      "source": [
        "## SML and Second Pass Regression"
      ],
      "metadata": {
        "id": "Pe593vPMNXxH"
      }
    },
    {
      "cell_type": "code",
      "source": [
        "y = dftot['mean ri-rf']\n",
        "X = sm.add_constant(dftot.regression_betas)\n",
        "OLS_regr = sm.OLS(y, X).fit()\n",
        "OLS_regr.summary()"
      ],
      "metadata": {
        "colab": {
          "base_uri": "https://localhost:8080/",
          "height": 498
        },
        "id": "Mz4SW3QrMpGg",
        "outputId": "5a351075-b23c-4a33-cb09-13f932c6d31c"
      },
      "execution_count": 4,
      "outputs": [
        {
          "output_type": "stream",
          "name": "stderr",
          "text": [
            "/usr/local/lib/python3.10/dist-packages/scipy/stats/_stats_py.py:1736: UserWarning: kurtosistest only valid for n>=20 ... continuing anyway, n=9\n",
            "  warnings.warn(\"kurtosistest only valid for n>=20 ... continuing \"\n"
          ]
        },
        {
          "output_type": "execute_result",
          "data": {
            "text/plain": [
              "<class 'statsmodels.iolib.summary.Summary'>\n",
              "\"\"\"\n",
              "                            OLS Regression Results                            \n",
              "==============================================================================\n",
              "Dep. Variable:             mean ri-rf   R-squared:                       0.030\n",
              "Model:                            OLS   Adj. R-squared:                 -0.109\n",
              "Method:                 Least Squares   F-statistic:                    0.2151\n",
              "Date:                Tue, 02 May 2023   Prob (F-statistic):              0.657\n",
              "Time:                        16:24:47   Log-Likelihood:                 30.903\n",
              "No. Observations:                   9   AIC:                            -57.81\n",
              "Df Residuals:                       7   BIC:                            -57.41\n",
              "Df Model:                           1                                         \n",
              "Covariance Type:            nonrobust                                         \n",
              "====================================================================================\n",
              "                       coef    std err          t      P>|t|      [0.025      0.975]\n",
              "------------------------------------------------------------------------------------\n",
              "const                0.0237      0.015      1.557      0.164      -0.012       0.060\n",
              "regression_betas     0.0054      0.012      0.464      0.657      -0.022       0.033\n",
              "==============================================================================\n",
              "Omnibus:                        0.632   Durbin-Watson:                   1.446\n",
              "Prob(Omnibus):                  0.729   Jarque-Bera (JB):                0.585\n",
              "Skew:                           0.364   Prob(JB):                        0.746\n",
              "Kurtosis:                       1.985   Cond. No.                         10.6\n",
              "==============================================================================\n",
              "\n",
              "Notes:\n",
              "[1] Standard Errors assume that the covariance matrix of the errors is correctly specified.\n",
              "\"\"\""
            ],
            "text/html": [
              "<table class=\"simpletable\">\n",
              "<caption>OLS Regression Results</caption>\n",
              "<tr>\n",
              "  <th>Dep. Variable:</th>       <td>mean ri-rf</td>    <th>  R-squared:         </th> <td>   0.030</td>\n",
              "</tr>\n",
              "<tr>\n",
              "  <th>Model:</th>                   <td>OLS</td>       <th>  Adj. R-squared:    </th> <td>  -0.109</td>\n",
              "</tr>\n",
              "<tr>\n",
              "  <th>Method:</th>             <td>Least Squares</td>  <th>  F-statistic:       </th> <td>  0.2151</td>\n",
              "</tr>\n",
              "<tr>\n",
              "  <th>Date:</th>             <td>Tue, 02 May 2023</td> <th>  Prob (F-statistic):</th>  <td> 0.657</td> \n",
              "</tr>\n",
              "<tr>\n",
              "  <th>Time:</th>                 <td>16:24:47</td>     <th>  Log-Likelihood:    </th> <td>  30.903</td>\n",
              "</tr>\n",
              "<tr>\n",
              "  <th>No. Observations:</th>      <td>     9</td>      <th>  AIC:               </th> <td>  -57.81</td>\n",
              "</tr>\n",
              "<tr>\n",
              "  <th>Df Residuals:</th>          <td>     7</td>      <th>  BIC:               </th> <td>  -57.41</td>\n",
              "</tr>\n",
              "<tr>\n",
              "  <th>Df Model:</th>              <td>     1</td>      <th>                     </th>     <td> </td>   \n",
              "</tr>\n",
              "<tr>\n",
              "  <th>Covariance Type:</th>      <td>nonrobust</td>    <th>                     </th>     <td> </td>   \n",
              "</tr>\n",
              "</table>\n",
              "<table class=\"simpletable\">\n",
              "<tr>\n",
              "          <td></td>            <th>coef</th>     <th>std err</th>      <th>t</th>      <th>P>|t|</th>  <th>[0.025</th>    <th>0.975]</th>  \n",
              "</tr>\n",
              "<tr>\n",
              "  <th>const</th>            <td>    0.0237</td> <td>    0.015</td> <td>    1.557</td> <td> 0.164</td> <td>   -0.012</td> <td>    0.060</td>\n",
              "</tr>\n",
              "<tr>\n",
              "  <th>regression_betas</th> <td>    0.0054</td> <td>    0.012</td> <td>    0.464</td> <td> 0.657</td> <td>   -0.022</td> <td>    0.033</td>\n",
              "</tr>\n",
              "</table>\n",
              "<table class=\"simpletable\">\n",
              "<tr>\n",
              "  <th>Omnibus:</th>       <td> 0.632</td> <th>  Durbin-Watson:     </th> <td>   1.446</td>\n",
              "</tr>\n",
              "<tr>\n",
              "  <th>Prob(Omnibus):</th> <td> 0.729</td> <th>  Jarque-Bera (JB):  </th> <td>   0.585</td>\n",
              "</tr>\n",
              "<tr>\n",
              "  <th>Skew:</th>          <td> 0.364</td> <th>  Prob(JB):          </th> <td>   0.746</td>\n",
              "</tr>\n",
              "<tr>\n",
              "  <th>Kurtosis:</th>      <td> 1.985</td> <th>  Cond. No.          </th> <td>    10.6</td>\n",
              "</tr>\n",
              "</table><br/><br/>Notes:<br/>[1] Standard Errors assume that the covariance matrix of the errors is correctly specified."
            ]
          },
          "metadata": {},
          "execution_count": 4
        }
      ]
    },
    {
      "cell_type": "code",
      "source": [
        "ax = dftot.plot(kind='scatter', x='regression_betas', y='mean ri-rf')\n",
        "ax.plot(dftot.regression_betas, OLS_regr.predict());"
      ],
      "metadata": {
        "colab": {
          "base_uri": "https://localhost:8080/",
          "height": 450
        },
        "id": "-CLZeyNLL2Oo",
        "outputId": "5c57ac71-3e9a-45bc-e489-b3aa98b32b2f"
      },
      "execution_count": 5,
      "outputs": [
        {
          "output_type": "display_data",
          "data": {
            "text/plain": [
              "<Figure size 640x480 with 1 Axes>"
            ],
            "image/png": "[encoded data removed]"
          },
          "metadata": {}
        }
      ]
    },
    {
      "cell_type": "code",
      "source": [
        "x1, y1 = 0, rf\n",
        "x2, y2 = 1, average_market_ret\n",
        "plt.axline((x1, y1), (x2, y2));\n",
        "plt.plot(x1, y1, x2, y2, marker='o', color='red');\n",
        "plt.scatter(*zip(*mean_ret_beta), marker='o')\n",
        "plt.xlabel('Beta')\n",
        "plt.show()"
      ],
      "metadata": {
        "colab": {
          "base_uri": "https://localhost:8080/",
          "height": 449
        },
        "id": "NIw3YkncNCTg",
        "outputId": "799f6c11-5d8b-4787-d0c6-97ab158a8d93"
      },
      "execution_count": 6,
      "outputs": [
        {
          "output_type": "display_data",
          "data": {
            "text/plain": [
              "<Figure size 640x480 with 1 Axes>"
            ],
            "image/png": "[encoded data removed]"
          },
          "metadata": {}
        }
      ]
    },
    {
      "cell_type": "code",
      "source": [
        "y1 = dftot['m_expected_returns']\n",
        "X1 = sm.add_constant(dftot.regression_betas)\n",
        "OLS_regr1 = sm.OLS(y1, X1).fit()\n",
        "y2 = dftot['m_mean_returns']\n",
        "X2 = sm.add_constant(dftot.regression_betas)\n",
        "OLS_regr2 = sm.OLS(y2, X2).fit()\n",
        "OLS_regr2.summary()"
      ],
      "metadata": {
        "colab": {
          "base_uri": "https://localhost:8080/",
          "height": 498
        },
        "id": "Y-KYX3zcNGjJ",
        "outputId": "47143a96-fb48-4d5e-846b-14157bfc17ba"
      },
      "execution_count": 7,
      "outputs": [
        {
          "output_type": "stream",
          "name": "stderr",
          "text": [
            "/usr/local/lib/python3.10/dist-packages/scipy/stats/_stats_py.py:1736: UserWarning: kurtosistest only valid for n>=20 ... continuing anyway, n=9\n",
            "  warnings.warn(\"kurtosistest only valid for n>=20 ... continuing \"\n"
          ]
        },
        {
          "output_type": "execute_result",
          "data": {
            "text/plain": [
              "<class 'statsmodels.iolib.summary.Summary'>\n",
              "\"\"\"\n",
              "                            OLS Regression Results                            \n",
              "==============================================================================\n",
              "Dep. Variable:         m_mean_returns   R-squared:                       0.030\n",
              "Model:                            OLS   Adj. R-squared:                 -0.109\n",
              "Method:                 Least Squares   F-statistic:                    0.2151\n",
              "Date:                Tue, 02 May 2023   Prob (F-statistic):              0.657\n",
              "Time:                        16:24:48   Log-Likelihood:                 30.903\n",
              "No. Observations:                   9   AIC:                            -57.81\n",
              "Df Residuals:                       7   BIC:                            -57.41\n",
              "Df Model:                           1                                         \n",
              "Covariance Type:            nonrobust                                         \n",
              "====================================================================================\n",
              "                       coef    std err          t      P>|t|      [0.025      0.975]\n",
              "------------------------------------------------------------------------------------\n",
              "const                0.0084      0.015      0.551      0.599      -0.028       0.044\n",
              "regression_betas     0.0054      0.012      0.464      0.657      -0.022       0.033\n",
              "==============================================================================\n",
              "Omnibus:                        0.632   Durbin-Watson:                   1.446\n",
              "Prob(Omnibus):                  0.729   Jarque-Bera (JB):                0.585\n",
              "Skew:                           0.364   Prob(JB):                        0.746\n",
              "Kurtosis:                       1.985   Cond. No.                         10.6\n",
              "==============================================================================\n",
              "\n",
              "Notes:\n",
              "[1] Standard Errors assume that the covariance matrix of the errors is correctly specified.\n",
              "\"\"\""
            ],
            "text/html": [
              "<table class=\"simpletable\">\n",
              "<caption>OLS Regression Results</caption>\n",
              "<tr>\n",
              "  <th>Dep. Variable:</th>     <td>m_mean_returns</td>  <th>  R-squared:         </th> <td>   0.030</td>\n",
              "</tr>\n",
              "<tr>\n",
              "  <th>Model:</th>                   <td>OLS</td>       <th>  Adj. R-squared:    </th> <td>  -0.109</td>\n",
              "</tr>\n",
              "<tr>\n",
              "  <th>Method:</th>             <td>Least Squares</td>  <th>  F-statistic:       </th> <td>  0.2151</td>\n",
              "</tr>\n",
              "<tr>\n",
              "  <th>Date:</th>             <td>Tue, 02 May 2023</td> <th>  Prob (F-statistic):</th>  <td> 0.657</td> \n",
              "</tr>\n",
              "<tr>\n",
              "  <th>Time:</th>                 <td>16:24:48</td>     <th>  Log-Likelihood:    </th> <td>  30.903</td>\n",
              "</tr>\n",
              "<tr>\n",
              "  <th>No. Observations:</th>      <td>     9</td>      <th>  AIC:               </th> <td>  -57.81</td>\n",
              "</tr>\n",
              "<tr>\n",
              "  <th>Df Residuals:</th>          <td>     7</td>      <th>  BIC:               </th> <td>  -57.41</td>\n",
              "</tr>\n",
              "<tr>\n",
              "  <th>Df Model:</th>              <td>     1</td>      <th>                     </th>     <td> </td>   \n",
              "</tr>\n",
              "<tr>\n",
              "  <th>Covariance Type:</th>      <td>nonrobust</td>    <th>                     </th>     <td> </td>   \n",
              "</tr>\n",
              "</table>\n",
              "<table class=\"simpletable\">\n",
              "<tr>\n",
              "          <td></td>            <th>coef</th>     <th>std err</th>      <th>t</th>      <th>P>|t|</th>  <th>[0.025</th>    <th>0.975]</th>  \n",
              "</tr>\n",
              "<tr>\n",
              "  <th>const</th>            <td>    0.0084</td> <td>    0.015</td> <td>    0.551</td> <td> 0.599</td> <td>   -0.028</td> <td>    0.044</td>\n",
              "</tr>\n",
              "<tr>\n",
              "  <th>regression_betas</th> <td>    0.0054</td> <td>    0.012</td> <td>    0.464</td> <td> 0.657</td> <td>   -0.022</td> <td>    0.033</td>\n",
              "</tr>\n",
              "</table>\n",
              "<table class=\"simpletable\">\n",
              "<tr>\n",
              "  <th>Omnibus:</th>       <td> 0.632</td> <th>  Durbin-Watson:     </th> <td>   1.446</td>\n",
              "</tr>\n",
              "<tr>\n",
              "  <th>Prob(Omnibus):</th> <td> 0.729</td> <th>  Jarque-Bera (JB):  </th> <td>   0.585</td>\n",
              "</tr>\n",
              "<tr>\n",
              "  <th>Skew:</th>          <td> 0.364</td> <th>  Prob(JB):          </th> <td>   0.746</td>\n",
              "</tr>\n",
              "<tr>\n",
              "  <th>Kurtosis:</th>      <td> 1.985</td> <th>  Cond. No.          </th> <td>    10.6</td>\n",
              "</tr>\n",
              "</table><br/><br/>Notes:<br/>[1] Standard Errors assume that the covariance matrix of the errors is correctly specified."
            ]
          },
          "metadata": {},
          "execution_count": 7
        }
      ]
    },
    {
      "cell_type": "code",
      "source": [
        "ax = dftot.plot(kind='scatter', x='regression_betas', y='m_mean_returns')\n",
        "ax.plot(dftot.regression_betas, OLS_regr1.predict());\n",
        "ax.plot(dftot.regression_betas, OLS_regr2.predict(), color='red');"
      ],
      "metadata": {
        "colab": {
          "base_uri": "https://localhost:8080/",
          "height": 450
        },
        "id": "Lng2nGZ4NOs7",
        "outputId": "0abcc336-08c9-49b8-e496-4aa05b3483f9"
      },
      "execution_count": 8,
      "outputs": [
        {
          "output_type": "display_data",
          "data": {
            "text/plain": [
              "<Figure size 640x480 with 1 Axes>"
            ],
            "image/png": "[encoded data removed]"
          },
          "metadata": {}
        }
      ]
    },
    {
      "cell_type": "markdown",
      "source": [
        "## Minimum Variance Frontier and Optimal Portfolio"
      ],
      "metadata": {
        "id": "U-XlSmhhNiEM"
      }
    },
    {
      "cell_type": "code",
      "source": [
        "x = np.zeros(len(stocks))\n",
        "df = yf.download(stocks, start, end, progress=False)['Adj Close'].pct_change()\n",
        "df_ind_rets = df.mean()*253\n",
        "df_ind_std = df.std() * (253**0.5)\n",
        "cov_matrix = df.cov() * 253\n",
        "\n",
        "def min_std(x, cov_matrix, bounds, args, ret):\n",
        "    def objective_function(x, cov_matrix):\n",
        "        return (x @ cov_matrix @ np.transpose(x))**0.5\n",
        "    \n",
        "    constraints = ({'type':'eq', 'fun': lambda x: np.sum(x) - 1},\n",
        "               {'type':'eq', 'fun': lambda x: sum(x*df_ind_rets) - ret}\n",
        "              )\n",
        "    \n",
        "    res = optimize.minimize(objective_function, x, args=args, method='SLSQP', constraints=constraints, bounds=bounds)\n",
        "    return res.fun, res.x\n",
        "\n",
        "args = (cov_matrix,)\n",
        "bounds = Bounds(-2, 2)\n",
        "\n",
        "wgt, opt_std = [], []\n",
        "for i in np.arange(0.05, 0.7, 0.01):\n",
        "    m = min_std(x, cov_matrix, bounds, args, ret=i)\n",
        "    opt_std.append(m[0])\n",
        "    wgt.append(m[1])\n",
        "\n",
        "plt.scatter(opt_std, np.arange(0.05, 0.7, 0.01), c='green');\n",
        "plt.scatter(df_ind_std, df_ind_rets, c='hotpink')\n",
        "plt.xlabel('Standard deviation')\n",
        "plt.ylabel('Return');\n",
        "plt.legend(['Efficient frontier', 'Stocks']);"
      ],
      "metadata": {
        "colab": {
          "base_uri": "https://localhost:8080/",
          "height": 449
        },
        "id": "KbCIppqgNfQa",
        "outputId": "4f02accd-ddaf-426c-c567-327d8eba6109"
      },
      "execution_count": 9,
      "outputs": [
        {
          "output_type": "display_data",
          "data": {
            "text/plain": [
              "<Figure size 640x480 with 1 Axes>"
            ],
            "image/png": "[encoded data removed]"
          },
          "metadata": {}
        }
      ]
    },
    {
      "cell_type": "code",
      "source": [
        "i = np.arange(0.05, 0.7, 0.01)\n",
        "dta = pd.DataFrame({'ret': i, 'weights':wgt, 'stand':opt_std})\n",
        "optimal_portfolio = dta.iloc[((dta.ret - rf)/dta.stand).idxmax()]\n",
        "print('Return:', optimal_portfolio.ret)\n",
        "print('Std deviation:', optimal_portfolio.stand)\n",
        "print('Weights:', optimal_portfolio.weights)"
      ],
      "metadata": {
        "colab": {
          "base_uri": "https://localhost:8080/"
        },
        "id": "waDPbZ7NPkKq",
        "outputId": "3d2b5c29-59b3-429c-adce-8e227b0a3ba1"
      },
      "execution_count": 10,
      "outputs": [
        {
          "output_type": "stream",
          "name": "stdout",
          "text": [
            "Return: 0.38000000000000006\n",
            "Std deviation: 0.25969234663299473\n",
            "Weights: [-0.03478435  0.30960484 -0.55586453  0.55200264  0.03572231  0.57221498\n",
            "  0.14555607  0.18672158 -0.21117355]\n"
          ]
        }
      ]
    }
  ]
}